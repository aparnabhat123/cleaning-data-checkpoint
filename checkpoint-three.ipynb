{
 "cells": [
  {
   "cell_type": "markdown",
   "metadata": {
    "azdata_cell_guid": "26037d32-2047-4157-81ef-595916bd66a0"
   },
   "source": [
    "# Checkpoint Three: Cleaning Data\n",
    "\n",
    "Now you are ready to clean your data. Before starting coding, provide the link to your dataset below.\n",
    "\n",
    "My dataset:\n",
    "\n",
    "Import the necessary libraries and create your dataframe(s)."
   ]
  },
  {
   "cell_type": "code",
   "execution_count": 9,
   "metadata": {
    "azdata_cell_guid": "e8adef8e-d0f2-4640-a179-5997f11e82ca"
   },
   "outputs": [
    {
     "data": {
      "text/html": [
       "<div>\n",
       "<style scoped>\n",
       "    .dataframe tbody tr th:only-of-type {\n",
       "        vertical-align: middle;\n",
       "    }\n",
       "\n",
       "    .dataframe tbody tr th {\n",
       "        vertical-align: top;\n",
       "    }\n",
       "\n",
       "    .dataframe thead th {\n",
       "        text-align: right;\n",
       "    }\n",
       "</style>\n",
       "<table border=\"1\" class=\"dataframe\">\n",
       "  <thead>\n",
       "    <tr style=\"text-align: right;\">\n",
       "      <th></th>\n",
       "      <th>RegionID</th>\n",
       "      <th>SizeRank</th>\n",
       "      <th>RegionName</th>\n",
       "      <th>RegionType</th>\n",
       "      <th>StateName</th>\n",
       "      <th>State</th>\n",
       "      <th>Metro</th>\n",
       "      <th>CountyName</th>\n",
       "      <th>2000-01-31</th>\n",
       "      <th>2000-02-29</th>\n",
       "      <th>...</th>\n",
       "      <th>2021-05-31</th>\n",
       "      <th>2021-06-30</th>\n",
       "      <th>2021-07-31</th>\n",
       "      <th>2021-08-31</th>\n",
       "      <th>2021-09-30</th>\n",
       "      <th>2021-10-31</th>\n",
       "      <th>2021-11-30</th>\n",
       "      <th>2021-12-31</th>\n",
       "      <th>2022-01-31</th>\n",
       "      <th>2022-02-28</th>\n",
       "    </tr>\n",
       "  </thead>\n",
       "  <tbody>\n",
       "    <tr>\n",
       "      <th>0</th>\n",
       "      <td>6181</td>\n",
       "      <td>0</td>\n",
       "      <td>New York</td>\n",
       "      <td>City</td>\n",
       "      <td>NY</td>\n",
       "      <td>NY</td>\n",
       "      <td>New York-Newark-Jersey City</td>\n",
       "      <td>Queens County</td>\n",
       "      <td>244603.0</td>\n",
       "      <td>246352.0</td>\n",
       "      <td>...</td>\n",
       "      <td>681347.0</td>\n",
       "      <td>684588.0</td>\n",
       "      <td>688403.0</td>\n",
       "      <td>692223.0</td>\n",
       "      <td>697387.0</td>\n",
       "      <td>702658.0</td>\n",
       "      <td>706913.0</td>\n",
       "      <td>710416.0</td>\n",
       "      <td>714635.0</td>\n",
       "      <td>719489.0</td>\n",
       "    </tr>\n",
       "    <tr>\n",
       "      <th>1</th>\n",
       "      <td>12447</td>\n",
       "      <td>1</td>\n",
       "      <td>Los Angeles</td>\n",
       "      <td>City</td>\n",
       "      <td>CA</td>\n",
       "      <td>CA</td>\n",
       "      <td>Los Angeles-Long Beach-Anaheim</td>\n",
       "      <td>Los Angeles County</td>\n",
       "      <td>231986.0</td>\n",
       "      <td>232160.0</td>\n",
       "      <td>...</td>\n",
       "      <td>831832.0</td>\n",
       "      <td>852626.0</td>\n",
       "      <td>875416.0</td>\n",
       "      <td>888956.0</td>\n",
       "      <td>898739.0</td>\n",
       "      <td>901715.0</td>\n",
       "      <td>906546.0</td>\n",
       "      <td>912349.0</td>\n",
       "      <td>917568.0</td>\n",
       "      <td>926537.0</td>\n",
       "    </tr>\n",
       "    <tr>\n",
       "      <th>2</th>\n",
       "      <td>39051</td>\n",
       "      <td>2</td>\n",
       "      <td>Houston</td>\n",
       "      <td>City</td>\n",
       "      <td>TX</td>\n",
       "      <td>TX</td>\n",
       "      <td>Houston-The Woodlands-Sugar Land</td>\n",
       "      <td>Harris County</td>\n",
       "      <td>99262.0</td>\n",
       "      <td>99298.0</td>\n",
       "      <td>...</td>\n",
       "      <td>202697.0</td>\n",
       "      <td>206875.0</td>\n",
       "      <td>211398.0</td>\n",
       "      <td>216410.0</td>\n",
       "      <td>220341.0</td>\n",
       "      <td>223825.0</td>\n",
       "      <td>226237.0</td>\n",
       "      <td>228949.0</td>\n",
       "      <td>231762.0</td>\n",
       "      <td>235041.0</td>\n",
       "    </tr>\n",
       "    <tr>\n",
       "      <th>3</th>\n",
       "      <td>17426</td>\n",
       "      <td>3</td>\n",
       "      <td>Chicago</td>\n",
       "      <td>City</td>\n",
       "      <td>IL</td>\n",
       "      <td>IL</td>\n",
       "      <td>Chicago-Naperville-Elgin</td>\n",
       "      <td>Cook County</td>\n",
       "      <td>160262.0</td>\n",
       "      <td>160569.0</td>\n",
       "      <td>...</td>\n",
       "      <td>287717.0</td>\n",
       "      <td>290038.0</td>\n",
       "      <td>292608.0</td>\n",
       "      <td>296048.0</td>\n",
       "      <td>298416.0</td>\n",
       "      <td>300746.0</td>\n",
       "      <td>303575.0</td>\n",
       "      <td>306241.0</td>\n",
       "      <td>308798.0</td>\n",
       "      <td>310317.0</td>\n",
       "    </tr>\n",
       "    <tr>\n",
       "      <th>4</th>\n",
       "      <td>6915</td>\n",
       "      <td>4</td>\n",
       "      <td>San Antonio</td>\n",
       "      <td>City</td>\n",
       "      <td>TX</td>\n",
       "      <td>TX</td>\n",
       "      <td>San Antonio-New Braunfels</td>\n",
       "      <td>Bexar County</td>\n",
       "      <td>103065.0</td>\n",
       "      <td>103228.0</td>\n",
       "      <td>...</td>\n",
       "      <td>217295.0</td>\n",
       "      <td>222642.0</td>\n",
       "      <td>227443.0</td>\n",
       "      <td>232714.0</td>\n",
       "      <td>236207.0</td>\n",
       "      <td>240013.0</td>\n",
       "      <td>243324.0</td>\n",
       "      <td>247602.0</td>\n",
       "      <td>251837.0</td>\n",
       "      <td>255859.0</td>\n",
       "    </tr>\n",
       "  </tbody>\n",
       "</table>\n",
       "<p>5 rows × 274 columns</p>\n",
       "</div>"
      ],
      "text/plain": [
       "   RegionID  SizeRank   RegionName RegionType StateName State  \\\n",
       "0      6181         0     New York       City        NY    NY   \n",
       "1     12447         1  Los Angeles       City        CA    CA   \n",
       "2     39051         2      Houston       City        TX    TX   \n",
       "3     17426         3      Chicago       City        IL    IL   \n",
       "4      6915         4  San Antonio       City        TX    TX   \n",
       "\n",
       "                              Metro          CountyName  2000-01-31  \\\n",
       "0       New York-Newark-Jersey City       Queens County    244603.0   \n",
       "1    Los Angeles-Long Beach-Anaheim  Los Angeles County    231986.0   \n",
       "2  Houston-The Woodlands-Sugar Land       Harris County     99262.0   \n",
       "3          Chicago-Naperville-Elgin         Cook County    160262.0   \n",
       "4         San Antonio-New Braunfels        Bexar County    103065.0   \n",
       "\n",
       "   2000-02-29  ...  2021-05-31  2021-06-30  2021-07-31  2021-08-31  \\\n",
       "0    246352.0  ...    681347.0    684588.0    688403.0    692223.0   \n",
       "1    232160.0  ...    831832.0    852626.0    875416.0    888956.0   \n",
       "2     99298.0  ...    202697.0    206875.0    211398.0    216410.0   \n",
       "3    160569.0  ...    287717.0    290038.0    292608.0    296048.0   \n",
       "4    103228.0  ...    217295.0    222642.0    227443.0    232714.0   \n",
       "\n",
       "   2021-09-30  2021-10-31  2021-11-30  2021-12-31  2022-01-31  2022-02-28  \n",
       "0    697387.0    702658.0    706913.0    710416.0    714635.0    719489.0  \n",
       "1    898739.0    901715.0    906546.0    912349.0    917568.0    926537.0  \n",
       "2    220341.0    223825.0    226237.0    228949.0    231762.0    235041.0  \n",
       "3    298416.0    300746.0    303575.0    306241.0    308798.0    310317.0  \n",
       "4    236207.0    240013.0    243324.0    247602.0    251837.0    255859.0  \n",
       "\n",
       "[5 rows x 274 columns]"
      ]
     },
     "execution_count": 9,
     "metadata": {},
     "output_type": "execute_result"
    }
   ],
   "source": [
    "import numpy as np\n",
    "import pandas as pd\n",
    "import matplotlib.pyplot as plt\n",
    "import seaborn as sns\n",
    "%matplotlib inline\n",
    "\n",
    "\n",
    "bedroom_cnt_3 = pd.read_csv('City_zhvi_bdrmcnt_3.csv')\n",
    "bedroom_cnt_4 = pd.read_csv('City_zhvi_bdrmcnt_4.csv')\n",
    "bedroom_cnt_5 = pd.read_csv('City_zhvi_bdrmcnt_5.csv')\n",
    "Rentals = pd.read_csv('Rentals.csv')\n",
    "# head of the data\n",
    "bedroom_cnt_3.head()\n"
   ]
  },
  {
   "cell_type": "markdown",
   "metadata": {
    "azdata_cell_guid": "e172475a-c4ee-414a-8367-9965355dbba6"
   },
   "source": [
    "## Missing Data\n",
    "\n",
    "Test your dataset for missing data and handle it as needed. Make notes in the form of code comments as to your thought process."
   ]
  },
  {
   "cell_type": "code",
   "execution_count": 15,
   "metadata": {},
   "outputs": [],
   "source": [
    "# Converting date columns in to rows\n",
    "bedroom_cnt_3 = bedroom_cnt_3.melt(id_vars=[\"RegionID\", \"SizeRank\", \"RegionName\" ,\"RegionType\", \"StateName\" , \"State\" , \"Metro\"\n",
    "                           , \"CountyName\" ], \n",
    "        var_name=\"Date\", \n",
    "        value_name=\"Value\")"
   ]
  },
  {
   "cell_type": "code",
   "execution_count": 16,
   "metadata": {},
   "outputs": [
    {
     "data": {
      "text/plain": [
       "<AxesSubplot:>"
      ]
     },
     "execution_count": 16,
     "metadata": {},
     "output_type": "execute_result"
    },
    {
     "data": {
      "image/png": "[encoded data removed]",
      "text/plain": [
       "<Figure size 432x288 with 1 Axes>"
      ]
     },
     "metadata": {
      "needs_background": "light"
     },
     "output_type": "display_data"
    }
   ],
   "source": [
    "sns.heatmap(bedroom_cnt_3.isnull(),cmap= 'coolwarm', cbar=False)"
   ]
  },
  {
   "cell_type": "markdown",
   "metadata": {},
   "source": [
    "As per the graph, Value and Metro columns have NULL values. NULL values are shown in red. The reason for having so many NULL values is because for many of the counties under different US states, the data for home price index is not available for initial 5/6 years. However, we have still data available for minimum of 10 years for each counties and hence we have ample data to derive useful insights. Hence, we will not be removing the columns with NULL values for \"Values\" column which shows housing prices data"
   ]
  },
  {
   "cell_type": "markdown",
   "metadata": {
    "azdata_cell_guid": "1233f543-e9a0-4f78-96f5-d7536554102e"
   },
   "source": [
    "## Irregular Data\n",
    "\n",
    "Detect outliers in your dataset and handle them as needed. Use code comments to make notes about your thought process."
   ]
  },
  {
   "cell_type": "markdown",
   "metadata": {
    "azdata_cell_guid": "efed50ae-16f0-471d-98e2-632553a74c12"
   },
   "source": [
    "No outliers is present in the dataset , hence this step is not needed for this dataset"
   ]
  },
  {
   "cell_type": "markdown",
   "metadata": {
    "azdata_cell_guid": "6f5b8ee0-bab3-44bc-958a-67d1e4c0407f"
   },
   "source": [
    "## Unnecessary Data\n",
    "\n",
    "Look for the different types of unnecessary data in your dataset and address it as needed. Make sure to use code comments to illustrate your thought process."
   ]
  },
  {
   "cell_type": "code",
   "execution_count": null,
   "metadata": {
    "azdata_cell_guid": "e788a239-2fbf-41de-9bd3-19e52e3b187c"
   },
   "outputs": [],
   "source": [
    "bedroom_cnt_3 = bedroom_cnt_3.drop(['RegionID','StateName','Metro','RegionType'], axis = 1)\n",
    "bedroom_cnt_4 = bedroom_cnt_4.drop(['RegionID','StateName','Metro','RegionType'], axis = 1)\n",
    "bedroom_cnt_5 = bedroom_cnt_5.drop(['RegionID','StateName','Metro','RegionType'], axis = 1)\n",
    "Rentals = Rentals.drop(['RegionID'], axis = 1)"
   ]
  },
  {
   "cell_type": "markdown",
   "metadata": {},
   "source": [
    "1. RegionId and Rank column is not needed for the analysis as for our analysis we need to create a hierarchy of state and county which will give us unique combination and hence can be dropped\n",
    "\n",
    "2. StateName and State coulmn have similar values and hence one of those can be dropped\n",
    "\n",
    "3. Metro column can be dropped , as for our analysis we need to create a hierarchy of state and county which will give us unique combination "
   ]
  },
  {
   "cell_type": "markdown",
   "metadata": {
    "azdata_cell_guid": "53e0cf94-c68a-4fa0-9849-9505a66bcce6"
   },
   "source": [
    "## Inconsistent Data\n",
    "\n",
    "Check for inconsistent data and address any that arises. As always, use code comments to illustrate your thought process."
   ]
  },
  {
   "cell_type": "markdown",
   "metadata": {
    "azdata_cell_guid": "e9de6624-812a-43f8-8e20-93b4a49b091f"
   },
   "source": [
    "The dataset doesn't contain any noisy or inconsistent data."
   ]
  },
  {
   "cell_type": "markdown",
   "metadata": {
    "azdata_cell_guid": "dedc0bfe-17d0-40b2-914f-2ddb54f9ce0d"
   },
   "source": [
    "## Summarize Your Results\n",
    "\n",
    "Make note of your answers to the following questions.\n",
    "\n",
    "1. Did you find all four types of dirty data in your dataset?\n",
    "2. Did the process of cleaning your data give you new insights into your dataset?\n",
    "3. Is there anything you would like to make note of when it comes to manipulating the data and making visualizations?"
   ]
  },
  {
   "cell_type": "markdown",
   "metadata": {},
   "source": [
    "The dataset did not had any outliers or incosistent data present in the dataset. However there were unnecessary columns present \n",
    "in the dataset which have been removed in above step as a part of data cleaning process. \n",
    "\n",
    "There are NULL values present for Value columns i.e. the pricing details for various counties is not present however , as we are\n",
    "interested in calculating average values of house prices across states hence the NULL values is not impacting the average \n",
    "calculations. \n",
    "\n"
   ]
  },
  {
   "cell_type": "code",
   "execution_count": 7,
   "metadata": {},
   "outputs": [],
   "source": [
    "bedroom_cnt_3.to_csv(r'C:\\Users\\suves\\Desktop\\Project - Data Analysis - Coder Girl\\bedroom_cnt_3_cleaned.csv', index = False)\n",
    "bedroom_cnt_4.to_csv(r'C:\\Users\\suves\\Desktop\\Project - Data Analysis - Coder Girl\\bedroom_cnt_4_cleaned.csv', index = False)\n",
    "bedroom_cnt_5.to_csv(r'C:\\Users\\suves\\Desktop\\Project - Data Analysis - Coder Girl\\bedroom_cnt_5_cleaned.csv', index = False)\n",
    "Rentals.to_csv(r'C:\\Users\\suves\\Desktop\\Project - Data Analysis - Coder Girl\\Rentals_cleaned.csv', index = False)"
   ]
  },
  {
   "cell_type": "markdown",
   "metadata": {},
   "source": [
    "As per the above code I am exporting the cleaned datasets from dataframe to csv - I have used these exported cleaned datasets for visulasation in Tableau as a part of checkpoint 4."
   ]
  }
 ],
 "metadata": {
  "kernelspec": {
   "display_name": "Python 3",
   "language": "python",
   "name": "python3"
  },
  "language_info": {
   "codemirror_mode": {
    "name": "ipython",
    "version": 3
   },
   "file_extension": ".py",
   "mimetype": "text/x-python",
   "name": "python",
   "nbconvert_exporter": "python",
   "pygments_lexer": "ipython3",
   "version": "3.8.8"
  }
 },
 "nbformat": 4,
 "nbformat_minor": 2
}
